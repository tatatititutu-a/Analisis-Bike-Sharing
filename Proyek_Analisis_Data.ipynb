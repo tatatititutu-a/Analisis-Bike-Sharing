{
  "cells": [
    {
      "cell_type": "markdown",
      "metadata": {
        "id": "H9wADwK78DCz"
      },
      "source": [
        "# Proyek Analisis Data: [Input Nama Dataset]\n",
        "- **Nama:** [Arina Pramudita]\n",
        "- **Email:** [arinapramudta@gmail.com]\n",
        "- **ID Dicoding:** [tatatititutu]"
      ]
    },
    {
      "cell_type": "markdown",
      "metadata": {
        "id": "eE0raob58DC0"
      },
      "source": [
        "## Menentukan Pertanyaan Bisnis"
      ]
    },
    {
      "cell_type": "markdown",
      "metadata": {
        "id": "GmQeQ5YF8DC0"
      },
      "source": [
        "- Bagaimana pengaruh hari libur terhadap jumlah penyewa sepeda?\n",
        "- faktor apa saja yang bisa  mempengaruhi penyewaan sepeda saat cuaca dan hari kerja?"
      ]
    },
    {
      "cell_type": "markdown",
      "metadata": {
        "id": "H-z4QGlO8DC1"
      },
      "source": [
        "## Import Semua Packages/Library yang Digunakan"
      ]
    },
    {
      "cell_type": "code",
      "execution_count": 5,
      "metadata": {
        "id": "FVYwaObI8DC1"
      },
      "outputs": [],
      "source": [
        "import pandas as pd\n",
        "import numpy as np\n",
        "import matplotlib.pyplot as plt\n",
        "import seaborn as sns\n",
        "\n"
      ]
    },
    {
      "cell_type": "markdown",
      "metadata": {
        "id": "h_Sh51Xy8DC1"
      },
      "source": [
        "## Data Wrangling"
      ]
    },
    {
      "cell_type": "markdown",
      "metadata": {
        "id": "sXU2GBYu8DC1"
      },
      "source": [
        "### Gathering Data"
      ]
    },
    {
      "cell_type": "code",
      "execution_count": 6,
      "metadata": {
        "id": "zjCBk1BI8DC1"
      },
      "outputs": [],
      "source": [
        "#load dataset\n",
        "df1 = pd.read_csv('day.csv')\n",
        "df2 = pd.read_csv('hour.csv')\n"
      ]
    },
    {
      "cell_type": "markdown",
      "source": [
        "**Insight:**\n",
        "- untuk membaca file csv"
      ],
      "metadata": {
        "id": "MMi6xGaDkbCi"
      }
    },
    {
      "cell_type": "markdown",
      "metadata": {
        "id": "FHSiqaZp8DC1"
      },
      "source": [
        "### Assessing Data"
      ]
    },
    {
      "cell_type": "code",
      "source": [
        "import matplotlib.pyplot as plt\n",
        "# menampilkan lima baris dari file day\n",
        "print(\"Lima baris teratas dari data day.csv:\")\n",
        "print(df1.head())\n",
        "\n",
        "# menampilkan informasi dari file day\n",
        "print(\"\\nInformasi umum dari data day.csv:\")\n",
        "print(df1.info())\n",
        "\n",
        "# menampilkan deskriptif dari file day\n",
        "print(\"\\nStatistik deskriptif dari data day.csv:\")\n",
        "print(df1.describe())\n",
        "\n",
        "# menampilkan data yang hilang didalam file day csv\n",
        "print(\"\\nJumlah nilai yang hilang (missing values) dalam data day.csv:\")\n",
        "print(df1.isnull().sum())\n",
        "\n",
        "\n",
        "# menampilkan lima baris dari file hour\n",
        "print(\"\\nLima baris teratas dari data hour.csv:\")\n",
        "print(df2.head())\n",
        "\n",
        "# menampilkan informasi dari file hour\n",
        "print(\"\\nInformasi umum dari data hour.csv:\")\n",
        "print(df2.info())\n",
        "\n",
        "# menampilkan statistik deskriptif dari file hour\n",
        "print(\"\\nStatistik deskriptif dari data hour.csv:\")\n",
        "print(df2.describe())\n",
        "\n",
        "# menampilkan data yang hilang didalam file hour csv\n",
        "print(\"\\nJumlah nilai yang hilang (missing values) dalam data hour.csv:\")\n",
        "print(df2.isnull().sum())\n",
        "\n",
        "# mencari jumlah duplikat file day\n",
        "print(\"\\nJumlah duplikat pada data day.csv:\")\n",
        "print(df1.duplicated().sum())\n",
        "\n",
        "# mencari jumlah duplikat pada file hour\n",
        "print(\"\\nJumlah duplikat pada data hour.csv:\")\n",
        "print(df2.duplicated().sum())\n",
        "\n",
        "\n"
      ],
      "metadata": {
        "id": "ax-3tEjc9Cj1"
      },
      "execution_count": null,
      "outputs": []
    },
    {
      "cell_type": "markdown",
      "source": [
        "**Insight:**\n",
        "- menampilkan informasi pada file hour dan day\n",
        "- tidak ada duplikat pada file hour dan day"
      ],
      "metadata": {
        "id": "7dtxhAPrkhPL"
      }
    },
    {
      "cell_type": "markdown",
      "metadata": {
        "id": "EhN5R4hr8DC1"
      },
      "source": [
        "### Cleaning Data"
      ]
    },
    {
      "cell_type": "code",
      "source": [
        "import pandas as pd\n",
        "\n",
        "# memeriksa tipe data setiap kolom\n",
        "print(\"\\nTipe data pada df1 (day.csv):\")\n",
        "print(df1.dtypes)\n",
        "\n",
        "print(\"\\nTipe data pada df2 (hour.csv):\")\n",
        "print(df2.dtypes)\n",
        "\n",
        "# Mengubah tipe data di df1\n",
        "df1['dteday'] = pd.to_datetime(df1['dteday'])\n",
        "\n",
        "\n",
        "# Mengubah tipe data di df2\n",
        "df2['dteday'] = pd.to_datetime(df2['dteday'])\n",
        "\n",
        "\n",
        "# Menampilkan tipe data setelah perubahan\n",
        "print(df1.dtypes)\n",
        "print(df2.dtypes)\n",
        "\n",
        "\n"
      ],
      "metadata": {
        "id": "jVnYpprE9Evz"
      },
      "execution_count": null,
      "outputs": []
    },
    {
      "cell_type": "markdown",
      "source": [
        "**Insight:**\n",
        "- no missing value\n",
        "- no duplicate\n"
      ],
      "metadata": {
        "id": "Q_5ejIqckiSP"
      }
    },
    {
      "cell_type": "markdown",
      "metadata": {
        "id": "gp-Y6wU38DC1"
      },
      "source": [
        "## Exploratory Data Analysis (EDA)"
      ]
    },
    {
      "cell_type": "markdown",
      "metadata": {
        "id": "MW7WF2kr8DC1"
      },
      "source": [
        "### Explore ..."
      ]
    },
    {
      "cell_type": "code",
      "execution_count": null,
      "metadata": {
        "id": "e9CQCZjk8DC2"
      },
      "outputs": [],
      "source": [
        "import matplotlib.pyplot as plt\n",
        "# ekplor file data\n",
        "print(\"\\nExploring day.csv:\")\n",
        "print(df1.head())\n",
        "print(df1.describe())\n",
        "print(df1.groupby('season')['cnt'].sum())\n",
        "print(df1.groupby('yr')['cnt'].sum())\n",
        "print(df1.groupby('mnth')['cnt'].sum())\n",
        "print(df1.groupby('weekday')['cnt'].sum())\n",
        "print(df1.groupby('weathersit')['cnt'].sum())\n",
        "\n",
        "\n",
        "# eksplor file hour\n",
        "print(\"\\nExploring hour.csv:\")\n",
        "print(df2.head())\n",
        "print(df2.describe())\n",
        "print(df2.groupby('season')['cnt'].sum())\n",
        "print(df2.groupby('yr')['cnt'].sum())\n",
        "print(df2.groupby('mnth')['cnt'].sum())\n",
        "print(df2.groupby('hr')['cnt'].sum())\n",
        "print(df2.groupby('weekday')['cnt'].sum())\n",
        "print(df2.groupby('weathersit')['cnt'].sum())\n",
        "\n",
        "# korelasi matrix hari\n",
        "print(\"\\nCorrelation Matrix for day.csv:\")\n",
        "correlation_matrix_day = df1.corr()\n",
        "print(correlation_matrix_day)\n",
        "\n",
        "# korelasi matrik jam\n",
        "print(\"\\nCorrelation Matrix for hour.csv:\")\n",
        "correlation_matrix_hour = df2.corr()\n",
        "print(correlation_matrix_hour)\n",
        "\n",
        "\n",
        "# visualisasi\n",
        "plt.figure(figsize=(10, 6))\n",
        "sns.heatmap(correlation_matrix_day, annot=True, cmap='coolwarm')\n",
        "plt.title('Correlation Matrix for Day Data')\n",
        "plt.show()\n",
        "\n",
        "plt.figure(figsize=(10, 6))\n",
        "sns.heatmap(correlation_matrix_hour, annot=True, cmap='coolwarm')\n",
        "plt.title('Correlation Matrix for Hour Data')\n",
        "plt.show()\n",
        "\n",
        "# analisis rental sepeda setiap hari\n",
        "plt.figure(figsize=(10, 6))\n",
        "plt.hist(df1['cnt'], bins=20)\n",
        "plt.xlabel('Total Bike Rentals')\n",
        "plt.ylabel('Frequency')\n",
        "plt.title('Histogram of Bike Rentals per Day')\n",
        "plt.show()\n",
        "\n",
        "# analisis rental setiap season\n",
        "plt.figure(figsize=(10, 6))\n",
        "sns.boxplot(x='season', y='cnt', data=df1)\n",
        "plt.xlabel('Season')\n",
        "plt.ylabel('Total Bike Rentals')\n",
        "plt.title('Box Plot of Bike Rentals per Season')\n",
        "plt.show()\n",
        "\n",
        "\n"
      ]
    },
    {
      "cell_type": "markdown",
      "source": [
        "**Insight:**\n",
        "- jumlah penyewaan sepeda lebih banyak pada musim semi dan musim panas\n",
        "- jumlah penyewaan sepeda paling sedikit musim dingin\n",
        "- jumlah penyewaan meningkat pada bulan juli\n",
        "- jumlah penyewaan paling sedikit pada bulan desember\n",
        "\n",
        "\n"
      ],
      "metadata": {
        "id": "th_Lzl2Fkj9O"
      }
    },
    {
      "cell_type": "markdown",
      "metadata": {
        "id": "zsyZjqak8DC2"
      },
      "source": [
        "## Visualization & Explanatory Analysis"
      ]
    },
    {
      "cell_type": "markdown",
      "metadata": {
        "id": "HZxOiQ6n8DC2"
      },
      "source": [
        "### Pertanyaan 1:"
      ]
    },
    {
      "cell_type": "code",
      "execution_count": null,
      "metadata": {
        "id": "1swJUdAD8DC2"
      },
      "outputs": [],
      "source": [
        "import matplotlib.pyplot as plt\n",
        "# menghitung rata rata penyewaan sepeda\n",
        "holiday_rental = df1.groupby('holiday')['cnt'].mean()\n",
        "\n",
        "# membuat grafik batang dari rata rata penyewa pada hari libur\n",
        "plt.figure(figsize=(8, 6))\n",
        "plt.bar(holiday_rental.index, holiday_rental.values)\n",
        "plt.xlabel('Holiday (0: No, 1: Yes)')\n",
        "plt.ylabel('Average Bike Rentals')\n",
        "plt.title('Impact of Holiday on Bike Rentals')\n",
        "plt.show()\n",
        "\n"
      ]
    },
    {
      "cell_type": "markdown",
      "metadata": {
        "id": "DgHI7CiU8DC2"
      },
      "source": [
        "### Pertanyaan 2:"
      ]
    },
    {
      "cell_type": "code",
      "execution_count": null,
      "metadata": {
        "id": "Go0lCsvO8DC2"
      },
      "outputs": [],
      "source": [
        "import matplotlib.pyplot as plt\n",
        "# analisis pengaruh cuaca pada saat penyewaan sepeda\n",
        "plt.figure(figsize=(10, 6))\n",
        "sns.boxplot(x='weekday', y='cnt', hue='weathersit', data=df2)\n",
        "plt.xlabel('Weekday')\n",
        "plt.ylabel('Total Bike Rentals')\n",
        "plt.title('Impact of Weather and Weekday on Bike Rentals')\n",
        "plt.show()\n",
        "\n",
        "# analisis pengaruh cuaca penyewaan sepeda\n",
        "plt.figure(figsize=(10, 6))\n",
        "plt.scatter(df2['temp'], df2['cnt'])\n",
        "plt.xlabel('Temperature')\n",
        "plt.ylabel('Total Bike Rentals')\n",
        "plt.title('Impact of Temperature on Bike Rentals')\n",
        "plt.show()\n",
        "\n",
        "plt.figure(figsize=(10, 6))\n",
        "plt.scatter(df2['hum'], df2['cnt'])\n",
        "plt.xlabel('Humidity')\n",
        "plt.ylabel('Total Bike Rentals')\n",
        "plt.title('Impact of Humidity on Bike Rentals')\n",
        "plt.show()\n",
        "\n",
        "# analisis pengaruh angin saat menyewa sepeda\n",
        "plt.figure(figsize=(10, 6))\n",
        "plt.scatter(df2['windspeed'], df2['cnt'])\n",
        "plt.xlabel('Windspeed')\n",
        "plt.ylabel('Total Bike Rentals')\n",
        "plt.title('Impact of Windspeed on Bike Rentals')\n",
        "plt.show()\n"
      ]
    },
    {
      "cell_type": "markdown",
      "source": [
        "**Insight:**\n",
        "- mengamati bagaimana penyewa sepeda pada hari libur dan hari kerja\n",
        "- mengamati bagaimana pengaruh angin saat menyewa sepeda\n"
      ],
      "metadata": {
        "id": "_0-36BDLklRg"
      }
    },
    {
      "cell_type": "markdown",
      "source": [
        "## Analisis Lanjutan (Opsional)"
      ],
      "metadata": {
        "id": "9y4VUsmcYNZ5"
      }
    },
    {
      "cell_type": "code",
      "source": [
        "import matplotlib.pyplot as plt\n",
        "from sklearn.cluster import KMeans\n",
        "from sklearn.preprocessing import StandardScaler\n",
        "\n",
        "# Pilih fitur yang relevan untuk clustering\n",
        "features = ['temp', 'hum', 'windspeed', 'cnt']\n",
        "X = df2[features]\n",
        "\n",
        "# Standardisasi data\n",
        "scaler = StandardScaler()\n",
        "X_scaled = scaler.fit_transform(X)\n",
        "\n",
        "# Menentukan jumlah cluster\n",
        "n_clusters = 3\n",
        "\n",
        "# Membuat model KMeans\n",
        "kmeans = KMeans(n_clusters=n_clusters, random_state=42)\n",
        "\n",
        "# Melakukan clustering\n",
        "kmeans.fit(X_scaled)\n",
        "\n",
        "# Menambahkan kolom cluster ke DataFrame\n",
        "df2['cluster'] = kmeans.labels_\n",
        "\n",
        "# Analisis hasil clustering\n",
        "cluster_summary = df2.groupby('cluster')[features].mean()\n",
        "print(cluster_summary)\n",
        "\n",
        "# Visualisasi hasil clustering\n",
        "plt.figure(figsize=(10, 6))\n",
        "plt.scatter(df2['temp'], df2['cnt'], c=df2['cluster'], cmap='viridis')\n",
        "plt.xlabel('Temperature')\n",
        "plt.ylabel('Total Bike Rentals')\n",
        "plt.title('Clustering Results based on Temperature and Bike Rentals')\n",
        "plt.show()\n"
      ],
      "metadata": {
        "id": "04WT1D5BkBV8"
      },
      "execution_count": null,
      "outputs": []
    },
    {
      "cell_type": "markdown",
      "source": [
        "**Conclusion**"
      ],
      "metadata": {
        "id": "EvhjRpnf1Ynr"
      }
    },
    {
      "cell_type": "markdown",
      "metadata": {
        "id": "ZTcyR48Y8DC2"
      },
      "source": [
        "**pertanyaan 1**\n",
        "- Perbedaan rata-rata penyewaan sepeda antara hari libur dan tidak ada hari libur adalah sekitar 2000-2500 unit.\n",
        "- Rata-rata penyewaan sepeda saat hari libur adalah sekitar 4500-5000 unit, sedangkan rata-rata penyewaan sepeda saat tidak ada hari libur adalah sekitar 2500-3000 unit.\n",
        "- hari libur memiliki dampak yang signifikan terhadap penyewaan sepeda, dengan peningkatan yang substansial pada hari libur dibandingkan hari biasa.\n",
        "\n",
        "\n",
        "**pertanyaan 2**\n",
        "- Hari libur berdampak positif pada jumlah penyewaan sepeda, yang menunjukkan bahwa orang cenderung lebih aktif menyewa sepeda untuk keperluan rekreasi atau aktivitas luar ruangan pada hari libur.\n",
        "- Cluster 2, yang menunjukkan suhu yang lebih tinggi, berhubungan dengan jumlah penyewaan sepeda yang lebih banyak. Ini menunjukkan bahwa suhu yang lebih tinggi dapat meningkatkan minat orang untuk menyewa sepeda.\n",
        "- Cuaca yang baik dan kondisi yang mendukung pada hari-hari tertentu meningkatkan kemungkinan orang untuk menyewa sepeda.\n",
        "-Suhu yang lebih tinggi mendorong peningkatan dalam penyewaan sepeda, menunjukkan bahwa faktor cuaca berperan penting dalam keputusan konsumen untuk menyewa sepeda.\n"
      ]
    },
    {
      "cell_type": "code",
      "source": [
        "!pip install streamlit"
      ],
      "metadata": {
        "id": "BmdOdWbr16ek"
      },
      "execution_count": null,
      "outputs": []
    },
    {
      "cell_type": "code",
      "source": [
        "!streamlit run app.py & npx localtunnel --port 8501"
      ],
      "metadata": {
        "id": "CEUYZdyR2hUA"
      },
      "execution_count": null,
      "outputs": []
    }
  ],
  "metadata": {
    "kernelspec": {
      "display_name": "Python 3",
      "language": "python",
      "name": "python3"
    },
    "language_info": {
      "name": "python",
      "version": "3.8.0 (tags/v3.8.0:fa919fd, Oct 14 2019, 19:21:23) [MSC v.1916 32 bit (Intel)]"
    },
    "orig_nbformat": 4,
    "vscode": {
      "interpreter": {
        "hash": "972b3bf27e332e87b5379f2791f6ef9dfc79c71018c370b0d7423235e20fe4d7"
      }
    },
    "colab": {
      "provenance": []
    }
  },
  "nbformat": 4,
  "nbformat_minor": 0
}